{
 "cells": [
  {
   "cell_type": "code",
   "execution_count": 1,
   "metadata": {},
   "outputs": [],
   "source": [
    "import pandas as pd\n",
    "\n",
    "# 创建示例数据\n",
    "df1 = pd.DataFrame({'name': ['Alice', 'Bob', 'Charlie', 'David'], 'value': ['', 3, '', 5]})\n",
    "df2 = pd.DataFrame({'name': ['Alice', 'Charlie', 'Eve', 'Frank'], 'value': [1, 2, 3, 4]})\n",
    "\n",
    "# 将 df1 和 df2 按照 'name' 列进行合并，保留 df1 中的所有行和 df2 中的匹配行\n",
    "merged = pd.merge(df1, df2, on='name', how='left')\n",
    "\n",
    "# 根据您的要求，将 df1 中的空值替换为 df2 中相应行的值\n",
    "for i, row in merged.iterrows():\n",
    "    if row['value_x'] == '' and not pd.isna(row['value_y']):\n",
    "        merged.at[i, 'value_x'] = row['value_y']\n",
    "\n",
    "# 移除 'value_y' 列，并将 'value_x' 列重命名为 'value'\n",
    "merged = merged.drop('value_y', axis=1).rename(columns={'value_x': 'value'})\n"
   ]
  },
  {
   "cell_type": "code",
   "execution_count": 2,
   "metadata": {},
   "outputs": [
    {
     "data": {
      "text/html": [
       "<div>\n",
       "<style scoped>\n",
       "    .dataframe tbody tr th:only-of-type {\n",
       "        vertical-align: middle;\n",
       "    }\n",
       "\n",
       "    .dataframe tbody tr th {\n",
       "        vertical-align: top;\n",
       "    }\n",
       "\n",
       "    .dataframe thead th {\n",
       "        text-align: right;\n",
       "    }\n",
       "</style>\n",
       "<table border=\"1\" class=\"dataframe\">\n",
       "  <thead>\n",
       "    <tr style=\"text-align: right;\">\n",
       "      <th></th>\n",
       "      <th>name</th>\n",
       "      <th>value</th>\n",
       "    </tr>\n",
       "  </thead>\n",
       "  <tbody>\n",
       "    <tr>\n",
       "      <th>0</th>\n",
       "      <td>Alice</td>\n",
       "      <td>1.0</td>\n",
       "    </tr>\n",
       "    <tr>\n",
       "      <th>1</th>\n",
       "      <td>Bob</td>\n",
       "      <td>3</td>\n",
       "    </tr>\n",
       "    <tr>\n",
       "      <th>2</th>\n",
       "      <td>Charlie</td>\n",
       "      <td>2.0</td>\n",
       "    </tr>\n",
       "    <tr>\n",
       "      <th>3</th>\n",
       "      <td>David</td>\n",
       "      <td>5</td>\n",
       "    </tr>\n",
       "  </tbody>\n",
       "</table>\n",
       "</div>"
      ],
      "text/plain": [
       "      name value\n",
       "0    Alice   1.0\n",
       "1      Bob     3\n",
       "2  Charlie   2.0\n",
       "3    David     5"
      ]
     },
     "execution_count": 2,
     "metadata": {},
     "output_type": "execute_result"
    }
   ],
   "source": [
    "merged"
   ]
  }
 ],
 "metadata": {
  "kernelspec": {
   "display_name": "base",
   "language": "python",
   "name": "python3"
  },
  "language_info": {
   "codemirror_mode": {
    "name": "ipython",
    "version": 3
   },
   "file_extension": ".py",
   "mimetype": "text/x-python",
   "name": "python",
   "nbconvert_exporter": "python",
   "pygments_lexer": "ipython3",
   "version": "3.9.7"
  },
  "orig_nbformat": 4
 },
 "nbformat": 4,
 "nbformat_minor": 2
}
